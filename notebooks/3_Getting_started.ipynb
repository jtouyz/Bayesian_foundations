{
 "cells": [
  {
   "cell_type": "markdown",
   "metadata": {},
   "source": [
    "| | |\n",
    "|:----------|:----------|\n",
    "| Name      | Bayesian Modeling Workshop |\n",
    "| Notebook  | Intro to PyMC |\n",
    "| Author    | Joshuah Touyz, PhD |\n",
    "| Version   | 0.1 |\n",
    "|Last update| 02/29/20 |"
   ]
  },
  {
   "cell_type": "markdown",
   "metadata": {},
   "source": [
    "## Exploring functionality of PyMC3"
   ]
  },
  {
   "cell_type": "code",
   "execution_count": 30,
   "metadata": {},
   "outputs": [],
   "source": [
    "# - Loading libraries - \n",
    "import pymc3 as pm\n",
    "import plotnine as pn\n",
    "import pandas as pd\n",
    "import numpy as np"
   ]
  },
  {
   "cell_type": "markdown",
   "metadata": {},
   "source": [
    "### How do we specify a model?\n",
    "#### Approach 1: using `with`\n",
    "- At this point we are simply defining the computational graph\n",
    "- Note that nothing has been run yet, we are simply setting up the structure to be able to run our samples"
   ]
  },
  {
   "cell_type": "code",
   "execution_count": 20,
   "metadata": {},
   "outputs": [],
   "source": [
    "# - Model Context Objeft - \n",
    "with pm.Model() as model:\n",
    "    parameter = pm.Exponential(\"poisson_param\", 1/10.0)\n",
    "    data_generator = pm.Poisson(\"data_generator\", parameter)"
   ]
  },
  {
   "cell_type": "markdown",
   "metadata": {},
   "source": [
    "#### Approach 2: Alternate way to specify a model"
   ]
  },
  {
   "cell_type": "code",
   "execution_count": 21,
   "metadata": {},
   "outputs": [],
   "source": [
    "model = pm.Model() #<- instantiate first\n",
    "\n",
    "with model:\n",
    "    parameter = pm.Exponential(\"poisson_param\", 1/10.0)\n",
    "    data_generator = pm.Poisson(\"data_generator\", parameter)"
   ]
  },
  {
   "cell_type": "markdown",
   "metadata": {},
   "source": [
    "#### How do we transform our variables?\n",
    "- Transforming variables is simpled we simply add them together"
   ]
  },
  {
   "cell_type": "code",
   "execution_count": 22,
   "metadata": {},
   "outputs": [],
   "source": [
    "# - Deterministic transform - \n",
    "with model:\n",
    "    data_plus_one = data_generator + 1"
   ]
  },
  {
   "cell_type": "markdown",
   "metadata": {},
   "source": [
    "#### How do we check the parameter assignments are working?\n",
    "- PyMC3 has stored test_values (these are simply the default) values\n",
    "- We can call them to make sure we are in fact getting the correct values"
   ]
  },
  {
   "cell_type": "code",
   "execution_count": 23,
   "metadata": {},
   "outputs": [
    {
     "name": "stdout",
     "output_type": "stream",
     "text": [
      "parameter.tag.test_value = 6.931471824645995\n",
      "data_generator.tag.test_value = 6\n",
      "data_plus_one.tag.test_value = 7\n"
     ]
    }
   ],
   "source": [
    "# Initial test value    \n",
    "print(\"parameter.tag.test_value =\", parameter.tag.test_value)\n",
    "print(\"data_generator.tag.test_value =\", data_generator.tag.test_value)\n",
    "print(\"data_plus_one.tag.test_value =\", data_plus_one.tag.test_value)"
   ]
  },
  {
   "cell_type": "markdown",
   "metadata": {},
   "source": [
    "### How do I generate new values?\n",
    "- To generate a sample you need to tell `pymc3` to sample from the distribution using `pm.sample'\n",
    "- In the `pm.sample` you also specify the number `chains` and the `step` (sampler)\n",
    "- You can also specify starting values that replace the intial test_value by `pm.Poisson(\"data_generator\", parameter, testval = 0.5)`"
   ]
  },
  {
   "cell_type": "code",
   "execution_count": 24,
   "metadata": {},
   "outputs": [
    {
     "name": "stderr",
     "output_type": "stream",
     "text": [
      "Only 50 samples in chain.\n",
      "Multiprocess sampling (2 chains in 4 jobs)\n",
      "CompoundStep\n",
      ">Metropolis: [data_generator]\n",
      ">Metropolis: [poisson_param]\n",
      "Sampling 2 chains, 0 divergences: 100%|██████████| 1100/1100 [00:00<00:00, 7691.61draws/s]\n",
      "/Users/joshuahtouyz/Desktop/projects/project_1/p1_venv/lib/python3.7/site-packages/pymc3/sampling.py:496: UserWarning: The number of samples is too small to check convergence reliably.\n",
      "  warnings.warn(\"The number of samples is too small to check convergence reliably.\")\n"
     ]
    }
   ],
   "source": [
    "# - Sampling from the distribution - \n",
    "with model:\n",
    "    step = pm.Metropolis()\n",
    "    trace = pm.sample(draws = 50, chains = 2, step = step)"
   ]
  },
  {
   "cell_type": "markdown",
   "metadata": {},
   "source": [
    "#### How do I check the simulated values?\n",
    "- You will need to call the `trace` function and the name of the variable"
   ]
  },
  {
   "cell_type": "code",
   "execution_count": 25,
   "metadata": {},
   "outputs": [
    {
     "data": {
      "text/html": [
       "<div>\n",
       "<style scoped>\n",
       "    .dataframe tbody tr th:only-of-type {\n",
       "        vertical-align: middle;\n",
       "    }\n",
       "\n",
       "    .dataframe tbody tr th {\n",
       "        vertical-align: top;\n",
       "    }\n",
       "\n",
       "    .dataframe thead th {\n",
       "        text-align: right;\n",
       "    }\n",
       "</style>\n",
       "<table border=\"1\" class=\"dataframe\">\n",
       "  <thead>\n",
       "    <tr style=\"text-align: right;\">\n",
       "      <th></th>\n",
       "      <th>parameter</th>\n",
       "      <th>simulation</th>\n",
       "      <th>value</th>\n",
       "    </tr>\n",
       "  </thead>\n",
       "  <tbody>\n",
       "    <tr>\n",
       "      <th>0</th>\n",
       "      <td>exp_simulated</td>\n",
       "      <td>0</td>\n",
       "      <td>8.607798</td>\n",
       "    </tr>\n",
       "    <tr>\n",
       "      <th>1</th>\n",
       "      <td>exp_simulated</td>\n",
       "      <td>1</td>\n",
       "      <td>8.938526</td>\n",
       "    </tr>\n",
       "    <tr>\n",
       "      <th>2</th>\n",
       "      <td>exp_simulated</td>\n",
       "      <td>2</td>\n",
       "      <td>8.938526</td>\n",
       "    </tr>\n",
       "    <tr>\n",
       "      <th>3</th>\n",
       "      <td>exp_simulated</td>\n",
       "      <td>3</td>\n",
       "      <td>8.938526</td>\n",
       "    </tr>\n",
       "    <tr>\n",
       "      <th>4</th>\n",
       "      <td>exp_simulated</td>\n",
       "      <td>4</td>\n",
       "      <td>8.938526</td>\n",
       "    </tr>\n",
       "    <tr>\n",
       "      <th>...</th>\n",
       "      <td>...</td>\n",
       "      <td>...</td>\n",
       "      <td>...</td>\n",
       "    </tr>\n",
       "    <tr>\n",
       "      <th>195</th>\n",
       "      <td>poisson_simullated</td>\n",
       "      <td>95</td>\n",
       "      <td>8.000000</td>\n",
       "    </tr>\n",
       "    <tr>\n",
       "      <th>196</th>\n",
       "      <td>poisson_simullated</td>\n",
       "      <td>96</td>\n",
       "      <td>5.000000</td>\n",
       "    </tr>\n",
       "    <tr>\n",
       "      <th>197</th>\n",
       "      <td>poisson_simullated</td>\n",
       "      <td>97</td>\n",
       "      <td>5.000000</td>\n",
       "    </tr>\n",
       "    <tr>\n",
       "      <th>198</th>\n",
       "      <td>poisson_simullated</td>\n",
       "      <td>98</td>\n",
       "      <td>13.000000</td>\n",
       "    </tr>\n",
       "    <tr>\n",
       "      <th>199</th>\n",
       "      <td>poisson_simullated</td>\n",
       "      <td>99</td>\n",
       "      <td>13.000000</td>\n",
       "    </tr>\n",
       "  </tbody>\n",
       "</table>\n",
       "<p>200 rows × 3 columns</p>\n",
       "</div>"
      ],
      "text/plain": [
       "              parameter  simulation      value\n",
       "0         exp_simulated           0   8.607798\n",
       "1         exp_simulated           1   8.938526\n",
       "2         exp_simulated           2   8.938526\n",
       "3         exp_simulated           3   8.938526\n",
       "4         exp_simulated           4   8.938526\n",
       "..                  ...         ...        ...\n",
       "195  poisson_simullated          95   8.000000\n",
       "196  poisson_simullated          96   5.000000\n",
       "197  poisson_simullated          97   5.000000\n",
       "198  poisson_simullated          98  13.000000\n",
       "199  poisson_simullated          99  13.000000\n",
       "\n",
       "[200 rows x 3 columns]"
      ]
     },
     "execution_count": 25,
     "metadata": {},
     "output_type": "execute_result"
    }
   ],
   "source": [
    "simulated_data = pd.DataFrame({'exp_simulated':trace['poisson_param'] , \n",
    "                               'poisson_simullated':trace['data_generator'] \n",
    "                              }).unstack().reset_index()\n",
    "simulated_data.columns= ['parameter','simulation','value']\n",
    "simulated_data"
   ]
  },
  {
   "cell_type": "markdown",
   "metadata": {},
   "source": [
    "#### How do I overwrite a model?\n",
    "- Overwriting is simple we re-instantiate the model with the same name\n",
    "- Note that we can also add to a particular model provided it has not yet been run using a sampler"
   ]
  },
  {
   "cell_type": "code",
   "execution_count": 26,
   "metadata": {},
   "outputs": [],
   "source": [
    "#- Adding to the model and overwriting data generator - \n",
    "with pm.Model() as model:\n",
    "    theta = pm.Exponential(\"theta\", 2.0)\n",
    "    data_generator = pm.Poisson(\"data_generator\", theta)\n",
    "    "
   ]
  },
  {
   "cell_type": "markdown",
   "metadata": {},
   "source": [
    "#### How do I define a new model?"
   ]
  },
  {
   "cell_type": "code",
   "execution_count": 27,
   "metadata": {},
   "outputs": [],
   "source": [
    "# - Instantiating a new model - \n",
    "with pm.Model() as ab_testing:\n",
    "    p_A = pm.Uniform(\"P(A)\", 0, 1)\n",
    "    p_B = pm.Uniform(\"P(B)\", 0, 1)"
   ]
  },
  {
   "cell_type": "markdown",
   "metadata": {},
   "source": [
    "#### What type of samplers does PyMC3 have?\n",
    "- The `step` method is used to specify the MCMC sampler for generating posterior samples\n",
    "- The default step methods will depend on the output variable:\n",
    "    - Binary variables will be assigned to BinaryMetropolis\n",
    "    - Discrete variables will be assigned to Metropolis\n",
    "    - Continuous variables will be assigned to NUTS\n",
    "- To conduct MCMC sampling to generate posterior samples in PyMC3, we specify a step method object that corresponds to a "
   ]
  },
  {
   "cell_type": "code",
   "execution_count": 28,
   "metadata": {},
   "outputs": [
    {
     "data": {
      "text/plain": [
       "['BinaryGibbsMetropolis',\n",
       " 'BinaryMetropolis',\n",
       " 'CategoricalGibbsMetropolis',\n",
       " 'CauchyProposal',\n",
       " 'CompoundStep',\n",
       " 'DEMetropolis',\n",
       " 'ElemwiseCategorical',\n",
       " 'EllipticalSlice',\n",
       " 'HamiltonianMC',\n",
       " 'LaplaceProposal',\n",
       " 'Metropolis',\n",
       " 'MultivariateNormalProposal',\n",
       " 'NUTS',\n",
       " 'NormalProposal',\n",
       " 'PoissonProposal',\n",
       " 'Slice']"
      ]
     },
     "execution_count": 28,
     "metadata": {},
     "output_type": "execute_result"
    }
   ],
   "source": [
    "# Set of different samplers:\n",
    "list(filter(lambda x: x[0].isupper(), dir(pm.step_methods)))"
   ]
  },
  {
   "cell_type": "markdown",
   "metadata": {},
   "source": [
    "#### How do I specify the sampler in my model?\n",
    "- The `step` argument allows you to specify the sampler you intend to use\n",
    "- Notice in the example below that you can specifiy different types of smapler for different parameter variables"
   ]
  },
  {
   "cell_type": "code",
   "execution_count": 31,
   "metadata": {},
   "outputs": [
    {
     "name": "stderr",
     "output_type": "stream",
     "text": [
      "Multiprocess sampling (4 chains in 4 jobs)\n",
      "CompoundStep\n",
      ">Metropolis: [mu]\n",
      ">Slice: [sd]\n",
      "Sampling 4 chains, 0 divergences: 100%|██████████| 42000/42000 [00:05<00:00, 8180.37draws/s]\n",
      "The number of effective samples is smaller than 25% for some parameters.\n"
     ]
    }
   ],
   "source": [
    "with pm.Model() as model:\n",
    "    mu = pm.Normal('mu', mu=0, sigma=1)\n",
    "    sd = pm.HalfNormal('sd', sigma=1)\n",
    "    obs = pm.Normal('obs', mu=mu, sigma=sd, observed=np.random.randn(100))\n",
    "\n",
    "    step1 = pm.Metropolis(vars=[mu])\n",
    "    step2 = pm.Slice(vars=[sd])\n",
    "    trace = pm.sample(10000, step=[step1, step2], cores=4)"
   ]
  },
  {
   "cell_type": "markdown",
   "metadata": {},
   "source": [
    "#### How do I see the summary views of my sampler?"
   ]
  },
  {
   "cell_type": "code",
   "execution_count": 33,
   "metadata": {},
   "outputs": [
    {
     "data": {
      "text/html": [
       "<div>\n",
       "<style scoped>\n",
       "    .dataframe tbody tr th:only-of-type {\n",
       "        vertical-align: middle;\n",
       "    }\n",
       "\n",
       "    .dataframe tbody tr th {\n",
       "        vertical-align: top;\n",
       "    }\n",
       "\n",
       "    .dataframe thead th {\n",
       "        text-align: right;\n",
       "    }\n",
       "</style>\n",
       "<table border=\"1\" class=\"dataframe\">\n",
       "  <thead>\n",
       "    <tr style=\"text-align: right;\">\n",
       "      <th></th>\n",
       "      <th>mean</th>\n",
       "      <th>sd</th>\n",
       "      <th>hpd_3%</th>\n",
       "      <th>hpd_97%</th>\n",
       "      <th>mcse_mean</th>\n",
       "      <th>mcse_sd</th>\n",
       "      <th>ess_mean</th>\n",
       "      <th>ess_sd</th>\n",
       "      <th>ess_bulk</th>\n",
       "      <th>ess_tail</th>\n",
       "      <th>r_hat</th>\n",
       "    </tr>\n",
       "  </thead>\n",
       "  <tbody>\n",
       "    <tr>\n",
       "      <th>mu</th>\n",
       "      <td>-0.048</td>\n",
       "      <td>0.108</td>\n",
       "      <td>-0.250</td>\n",
       "      <td>0.149</td>\n",
       "      <td>0.001</td>\n",
       "      <td>0.001</td>\n",
       "      <td>5361.0</td>\n",
       "      <td>4859.0</td>\n",
       "      <td>5371.0</td>\n",
       "      <td>5424.0</td>\n",
       "      <td>1.0</td>\n",
       "    </tr>\n",
       "    <tr>\n",
       "      <th>sd</th>\n",
       "      <td>1.066</td>\n",
       "      <td>0.077</td>\n",
       "      <td>0.923</td>\n",
       "      <td>1.208</td>\n",
       "      <td>0.000</td>\n",
       "      <td>0.000</td>\n",
       "      <td>36303.0</td>\n",
       "      <td>35670.0</td>\n",
       "      <td>37241.0</td>\n",
       "      <td>28880.0</td>\n",
       "      <td>1.0</td>\n",
       "    </tr>\n",
       "  </tbody>\n",
       "</table>\n",
       "</div>"
      ],
      "text/plain": [
       "     mean     sd  hpd_3%  hpd_97%  mcse_mean  mcse_sd  ess_mean   ess_sd  \\\n",
       "mu -0.048  0.108  -0.250    0.149      0.001    0.001    5361.0   4859.0   \n",
       "sd  1.066  0.077   0.923    1.208      0.000    0.000   36303.0  35670.0   \n",
       "\n",
       "    ess_bulk  ess_tail  r_hat  \n",
       "mu    5371.0    5424.0    1.0  \n",
       "sd   37241.0   28880.0    1.0  "
      ]
     },
     "execution_count": 33,
     "metadata": {},
     "output_type": "execute_result"
    }
   ],
   "source": [
    "pm.summary(trace)"
   ]
  },
  {
   "cell_type": "markdown",
   "metadata": {},
   "source": [
    "#### How do I find the MAP estimate for my sample?\n",
    "- It is frequently best practice to initialize the sampler with the map_estimate to speed up convergence"
   ]
  },
  {
   "cell_type": "code",
   "execution_count": 52,
   "metadata": {},
   "outputs": [
    {
     "name": "stderr",
     "output_type": "stream",
     "text": [
      "logp = -158.13, ||grad|| = 74.488: 100%|██████████| 9/9 [00:00<00:00, 2558.89it/s]"
     ]
    },
    {
     "name": "stdout",
     "output_type": "stream",
     "text": [
      "The map estimate for mu is -0.0 and sd is 1.0\n"
     ]
    },
    {
     "name": "stderr",
     "output_type": "stream",
     "text": [
      "\n"
     ]
    }
   ],
   "source": [
    "# Getting the MAP\n",
    "map_estimate = pm.find_MAP(model=model)\n",
    "print('The map estimate for mu is {mu} and sd is {sd}'.format(mu= np.round(map_estimate['mu']), sd = np.round(map_estimate['sd'])))"
   ]
  },
  {
   "cell_type": "markdown",
   "metadata": {},
   "source": [
    "#### How do I incorporate data into my models?\n",
    "- So far most of the xample are those of unrealized random variables\n",
    "- For an observed random variable we use `observed`\n",
    "- Suppose we have the model:\n",
    "$$\n",
    "X|\\mu,\\tau^2 \\sim N(\\mu,\\tau^2)\\qquad \\mu\\sim Exp(1/10), \\tau^2\\sim HalfCauchy(scale = 5)\n",
    "$$"
   ]
  },
  {
   "cell_type": "code",
   "execution_count": 63,
   "metadata": {},
   "outputs": [
    {
     "name": "stderr",
     "output_type": "stream",
     "text": [
      "Auto-assigning NUTS sampler...\n",
      "Initializing NUTS using jitter+adapt_diag...\n",
      "Multiprocess sampling (2 chains in 2 jobs)\n",
      "NUTS: [sd, mu]\n",
      "Sampling 2 chains, 0 divergences: 100%|██████████| 21000/21000 [00:05<00:00, 3575.97draws/s]\n",
      "The acceptance probability does not match the target. It is 0.8838442646150758, but should be close to 0.8. Try to increase the number of tuning steps.\n"
     ]
    }
   ],
   "source": [
    "# Random data centered around 5 with sd = 1\n",
    "data_in = np.random.normal(size = 1000, loc = 5)\n",
    "\n",
    "# - Model Context Objeft - \n",
    "with pm.Model() as model:\n",
    "    prior_mu = pm.Exponential('mu', 1/10.0)\n",
    "    prior_sd = pm.HalfCauchy('sd', beta = 5)\n",
    "    \n",
    "    # Inlcuding observed data\n",
    "    lik = pm.Normal('lik', mu=prior_mu, sigma=prior_sd, observed=data_in)\n",
    "\n",
    "    trace = pm.sample(10000, cores=2)"
   ]
  },
  {
   "cell_type": "code",
   "execution_count": 64,
   "metadata": {},
   "outputs": [
    {
     "data": {
      "text/html": [
       "<div>\n",
       "<style scoped>\n",
       "    .dataframe tbody tr th:only-of-type {\n",
       "        vertical-align: middle;\n",
       "    }\n",
       "\n",
       "    .dataframe tbody tr th {\n",
       "        vertical-align: top;\n",
       "    }\n",
       "\n",
       "    .dataframe thead th {\n",
       "        text-align: right;\n",
       "    }\n",
       "</style>\n",
       "<table border=\"1\" class=\"dataframe\">\n",
       "  <thead>\n",
       "    <tr style=\"text-align: right;\">\n",
       "      <th></th>\n",
       "      <th>mean</th>\n",
       "      <th>sd</th>\n",
       "      <th>hpd_3%</th>\n",
       "      <th>hpd_97%</th>\n",
       "      <th>mcse_mean</th>\n",
       "      <th>mcse_sd</th>\n",
       "      <th>ess_mean</th>\n",
       "      <th>ess_sd</th>\n",
       "      <th>ess_bulk</th>\n",
       "      <th>ess_tail</th>\n",
       "      <th>r_hat</th>\n",
       "    </tr>\n",
       "  </thead>\n",
       "  <tbody>\n",
       "    <tr>\n",
       "      <th>mu</th>\n",
       "      <td>5.022</td>\n",
       "      <td>0.032</td>\n",
       "      <td>4.964</td>\n",
       "      <td>5.082</td>\n",
       "      <td>0.0</td>\n",
       "      <td>0.0</td>\n",
       "      <td>17970.0</td>\n",
       "      <td>17970.0</td>\n",
       "      <td>17931.0</td>\n",
       "      <td>13866.0</td>\n",
       "      <td>1.0</td>\n",
       "    </tr>\n",
       "    <tr>\n",
       "      <th>sd</th>\n",
       "      <td>0.985</td>\n",
       "      <td>0.022</td>\n",
       "      <td>0.943</td>\n",
       "      <td>1.025</td>\n",
       "      <td>0.0</td>\n",
       "      <td>0.0</td>\n",
       "      <td>17641.0</td>\n",
       "      <td>17604.0</td>\n",
       "      <td>17684.0</td>\n",
       "      <td>12980.0</td>\n",
       "      <td>1.0</td>\n",
       "    </tr>\n",
       "  </tbody>\n",
       "</table>\n",
       "</div>"
      ],
      "text/plain": [
       "     mean     sd  hpd_3%  hpd_97%  mcse_mean  mcse_sd  ess_mean   ess_sd  \\\n",
       "mu  5.022  0.032   4.964    5.082        0.0      0.0   17970.0  17970.0   \n",
       "sd  0.985  0.022   0.943    1.025        0.0      0.0   17641.0  17604.0   \n",
       "\n",
       "    ess_bulk  ess_tail  r_hat  \n",
       "mu   17931.0   13866.0    1.0  \n",
       "sd   17684.0   12980.0    1.0  "
      ]
     },
     "execution_count": 64,
     "metadata": {},
     "output_type": "execute_result"
    }
   ],
   "source": [
    "pm.summary(trace)"
   ]
  },
  {
   "cell_type": "markdown",
   "metadata": {},
   "source": [
    "#### How do I get help with the distributions\n",
    "- Use the `help(pm.Normal)` where normal is replaced by one of the available distributions\n",
    "- See here for ehe"
   ]
  },
  {
   "cell_type": "markdown",
   "metadata": {},
   "source": [
    "#### How do I set the number of cores, samples, burn-in and chains?\n",
    "- All of that goes into the `pm.sample` argumetn"
   ]
  },
  {
   "cell_type": "code",
   "execution_count": 68,
   "metadata": {},
   "outputs": [
    {
     "name": "stderr",
     "output_type": "stream",
     "text": [
      "Auto-assigning NUTS sampler...\n",
      "Initializing NUTS using jitter+adapt_diag...\n",
      "Multiprocess sampling (4 chains in 4 jobs)\n",
      "NUTS: [mu]\n",
      "Sampling 4 chains, 0 divergences: 100%|██████████| 4800/4800 [00:00<00:00, 7680.45draws/s]\n",
      "The acceptance probability does not match the target. It is 0.9181221704206914, but should be close to 0.8. Try to increase the number of tuning steps.\n",
      "The acceptance probability does not match the target. It is 0.9232550505232099, but should be close to 0.8. Try to increase the number of tuning steps.\n",
      "The acceptance probability does not match the target. It is 0.9172552597197268, but should be close to 0.8. Try to increase the number of tuning steps.\n",
      "The acceptance probability does not match the target. It is 0.9271431676059172, but should be close to 0.8. Try to increase the number of tuning steps.\n"
     ]
    },
    {
     "name": "stdout",
     "output_type": "stream",
     "text": [
      "The length of the chains is: 1000\n"
     ]
    }
   ],
   "source": [
    "with pm.Model() as model:\n",
    "    mu = pm.Normal('mu', mu=0, sigma=1)\n",
    "    obs = pm.Normal('obs', mu=mu, sigma=1, observed=np.random.randn(100))\n",
    "\n",
    "    trace = pm.sample(cores=4,\n",
    "                     draws=1000,\n",
    "                      step=None, # <- specify sampler here\n",
    "                      chains=4,\n",
    "                      tune=500 # <- you can think of this as burn-in\n",
    "                     )\n",
    "print('The length of the chains is: {}'.format(len(trace)))"
   ]
  },
  {
   "cell_type": "markdown",
   "metadata": {},
   "source": [
    "#### What else should I know?\n",
    "- To speed up computation PyMC3 uses a couple of tricks, including transforming the underlying variables into a space before rescaling them back into normal space"
   ]
  },
  {
   "cell_type": "markdown",
   "metadata": {},
   "source": [
    "#### What if I need a quick and dirty model?\n",
    "- PyMC3 has variational methods \n",
    "- They are generally much quicker however they are less accurate and lead to biased estimates\n",
    "- The analysis proceeds much in the same way, the main difference is with respect to how the samples are generated - instead of `pm.sample` we use `pm.fit`"
   ]
  },
  {
   "cell_type": "code",
   "execution_count": 70,
   "metadata": {},
   "outputs": [
    {
     "name": "stderr",
     "output_type": "stream",
     "text": [
      "Average Loss = 150.65: 100%|██████████| 10000/10000 [00:02<00:00, 3946.01it/s]\n",
      "Finished [100%]: Average Loss = 150.65\n"
     ]
    }
   ],
   "source": [
    "with pm.Model() as model:\n",
    "    mu = pm.Normal('mu', mu=0, sigma=1)\n",
    "    sd = pm.HalfNormal('sd', sigma=1)\n",
    "    obs = pm.Normal('obs', mu=mu, sigma=sd, observed=np.random.randn(100))\n",
    "\n",
    "    approx = pm.fit()"
   ]
  },
  {
   "cell_type": "markdown",
   "metadata": {},
   "source": [
    "#### How do I predict on out of sample data?\n",
    "- There are two methods:\n",
    "    - Include NAs for your target variable in your input data set and they will be estimated\n",
    "    - Work with Theano's shared memory (this is a bit more invovled)"
   ]
  },
  {
   "cell_type": "code",
   "execution_count": 71,
   "metadata": {},
   "outputs": [
    {
     "name": "stderr",
     "output_type": "stream",
     "text": [
      "Auto-assigning NUTS sampler...\n",
      "Initializing NUTS using jitter+adapt_diag...\n",
      "Multiprocess sampling (4 chains in 4 jobs)\n",
      "NUTS: [x]\n",
      "Sampling 4 chains, 0 divergences: 100%|██████████| 4000/4000 [00:00<00:00, 7013.27draws/s]\n",
      "The acceptance probability does not match the target. It is 0.8809534998885024, but should be close to 0.8. Try to increase the number of tuning steps.\n",
      "/Users/joshuahtouyz/Desktop/projects/project_1/p1_venv/lib/python3.7/site-packages/pymc3/sampling.py:1247: UserWarning: samples parameter is smaller than nchains times ndraws, some draws and/or chains may not be represented in the returned posterior predictive sample\n",
      "  \"samples parameter is smaller than nchains times ndraws, some draws \"\n",
      "100%|██████████| 500/500 [00:03<00:00, 135.85it/s]\n"
     ]
    }
   ],
   "source": [
    "# Import theano and set up shared variables\n",
    "import theano\n",
    "\n",
    "x = np.random.randn(100)\n",
    "y = x > 0\n",
    "\n",
    "x_shared = theano.shared(x)\n",
    "y_shared = theano.shared(y)\n",
    "\n",
    "with pm.Model() as model:\n",
    "    coeff = pm.Normal('x', mu=0, sigma=1)\n",
    "    logistic = pm.math.sigmoid(coeff * x_shared)\n",
    "    pm.Bernoulli('obs', p=logistic, observed=y_shared)\n",
    "    trace = pm.sample()\n",
    "\n",
    "# Updating set of variables of interest \n",
    "x_shared.set_value([-1, 0, 1.])\n",
    "y_shared.set_value([0, 0, 0]) # dummy values\n",
    "\n",
    "with model:\n",
    "    post_pred = pm.sample_posterior_predictive(trace, samples=500)"
   ]
  },
  {
   "cell_type": "code",
   "execution_count": 72,
   "metadata": {},
   "outputs": [
    {
     "data": {
      "text/plain": [
       "array([0.03 , 0.47 , 0.972])"
      ]
     },
     "execution_count": 72,
     "metadata": {},
     "output_type": "execute_result"
    }
   ],
   "source": [
    "# Generate the posterior predictive\n",
    "post_pred['obs'].mean(axis=0)\n"
   ]
  }
 ],
 "metadata": {
  "kernelspec": {
   "display_name": "Python 3",
   "language": "python",
   "name": "python3"
  },
  "language_info": {
   "codemirror_mode": {
    "name": "ipython",
    "version": 3
   },
   "file_extension": ".py",
   "mimetype": "text/x-python",
   "name": "python",
   "nbconvert_exporter": "python",
   "pygments_lexer": "ipython3",
   "version": "3.7.3"
  }
 },
 "nbformat": 4,
 "nbformat_minor": 4
}
