{
 "cells": [
  {
   "cell_type": "markdown",
   "metadata": {},
   "source": [
    "| | |\n",
    "|:----------|:----------|\n",
    "| Name      | Bayesian Modeling |\n",
    "| Notebook  | Change Point Detection |\n",
    "| Author    | Joshuah Touyz, PhD |\n",
    "| Version   | 0.1 |\n",
    "|Last update| 02/29/20 |"
   ]
  },
  {
   "cell_type": "markdown",
   "metadata": {},
   "source": [
    "# Change point analysis - getting started with PyMC3\n",
    "\n",
    "Problem statement: \n",
    "- Suppose you are an ad agency and wanted to understand when there was a change in cusomter behavior due to a change in the website\n",
    "- Unfortunately you do not know when this change to the website occured but are aware that it occured in the last 70 days\n",
    "- You are given a graph of the number of clicks you are asked to identify when the change took place and how large it was\n",
    "\n",
    "Goal:\n",
    "- Design an algorithm that detects when a change in a system took place\n",
    "- Identify the means from the system \n",
    "\n",
    "Output:\n",
    "- The distribution of probable times a change occured in a given system\n",
    "- The rates before, during and after the change in the system\n",
    "\n",
    "General applications\n",
    "- Change point detection is used anywhere we are seeking to find where there was a change in a systems behavior\n",
    "- The most famous use case is in Facebook's Prophet software for forecasting\n",
    "- Other use cases involve \n",
    "    - Identifying when a law went into effect and the concomitant behavior\n",
    "    - The average change in behavior due to an intervention"
   ]
  },
  {
   "cell_type": "code",
   "execution_count": 10,
   "metadata": {},
   "outputs": [],
   "source": [
    "# Load libraries\n",
    "import numpy as np\n",
    "from numpy.linalg import inv \n",
    "import scipy as sp\n",
    "import pandas as pd\n",
    "import os\n",
    "\n",
    "# Plotting libarires\n",
    "import plotnine as pn\n",
    "from plotnine import *\n",
    "import corner \n",
    "\n",
    "# Importing pymc3\n",
    "import pymc3 as pm\n",
    "\n",
    "# Supressing warnings\n",
    "import warnings\n",
    "warnings.filterwarnings(\"ignore\")\n",
    "# warnings.filterwarnings(\"default\")"
   ]
  },
  {
   "cell_type": "markdown",
   "metadata": {},
   "source": [
    "Formulation 1:\n",
    "\n",
    "$$\n",
    "\\lambda_1\\sim exp(\\alpha)\\\\\n",
    "\\lambda_2\\sim exp(\\alpha)\\\\\n",
    "\\tau\\sim Unif(0,day_{max})\\\\\n",
    "\\lambda_{t}=\\begin{cases} \\lambda_1 &\\mbox{ if }t\\leq\\tau\\\\ \\lambda_2 &\\mbox{ if } t>\\tau\\end{cases}\\\\\n",
    "Count_{t}\\sim Poisson(\\lambda_{t})\n",
    "$$"
   ]
  },
  {
   "cell_type": "markdown",
   "metadata": {},
   "source": [
    "### Loading the data"
   ]
  },
  {
   "cell_type": "code",
   "execution_count": 13,
   "metadata": {},
   "outputs": [
    {
     "data": {
      "text/html": [
       "<div>\n",
       "<style scoped>\n",
       "    .dataframe tbody tr th:only-of-type {\n",
       "        vertical-align: middle;\n",
       "    }\n",
       "\n",
       "    .dataframe tbody tr th {\n",
       "        vertical-align: top;\n",
       "    }\n",
       "\n",
       "    .dataframe thead th {\n",
       "        text-align: right;\n",
       "    }\n",
       "</style>\n",
       "<table border=\"1\" class=\"dataframe\">\n",
       "  <thead>\n",
       "    <tr style=\"text-align: right;\">\n",
       "      <th></th>\n",
       "      <th>observed_counts</th>\n",
       "      <th>time</th>\n",
       "    </tr>\n",
       "  </thead>\n",
       "  <tbody>\n",
       "    <tr>\n",
       "      <th>0</th>\n",
       "      <td>6</td>\n",
       "      <td>1</td>\n",
       "    </tr>\n",
       "    <tr>\n",
       "      <th>1</th>\n",
       "      <td>8</td>\n",
       "      <td>2</td>\n",
       "    </tr>\n",
       "    <tr>\n",
       "      <th>2</th>\n",
       "      <td>17</td>\n",
       "      <td>3</td>\n",
       "    </tr>\n",
       "    <tr>\n",
       "      <th>3</th>\n",
       "      <td>8</td>\n",
       "      <td>4</td>\n",
       "    </tr>\n",
       "    <tr>\n",
       "      <th>4</th>\n",
       "      <td>11</td>\n",
       "      <td>5</td>\n",
       "    </tr>\n",
       "  </tbody>\n",
       "</table>\n",
       "</div>"
      ],
      "text/plain": [
       "   observed_counts  time\n",
       "0                6     1\n",
       "1                8     2\n",
       "2               17     3\n",
       "3                8     4\n",
       "4               11     5"
      ]
     },
     "execution_count": 13,
     "metadata": {},
     "output_type": "execute_result"
    }
   ],
   "source": [
    "# Loading data\n",
    "home = os.environ['HOME']\n",
    "path_to_data = os.path.join(home,'Desktop/UpSkill/Workshops/Workshop/observed_counts.csv')\n",
    "count_data = pd.read_csv(path_to_data).rename({'x':'time','y':'observed_counts'},axis=1)\n",
    "count_data.head()"
   ]
  },
  {
   "cell_type": "code",
   "execution_count": 14,
   "metadata": {},
   "outputs": [
    {
     "data": {
      "text/plain": [
       "<matplotlib.axes._subplots.AxesSubplot at 0x13f99e630>"
      ]
     },
     "execution_count": 14,
     "metadata": {},
     "output_type": "execute_result"
    },
    {
     "data": {
      "image/png": "[encoded data removed]",
      "text/plain": [
       "<Figure size 1080x360 with 1 Axes>"
      ]
     },
     "metadata": {
      "needs_background": "light"
     },
     "output_type": "display_data"
    }
   ],
   "source": [
    "# Visualize the data\n",
    "count_data.plot(x = 'time', y ='observed_counts',  kind = 'bar', figsize=(15,5))"
   ]
  },
  {
   "cell_type": "markdown",
   "metadata": {},
   "source": [
    "Looking at the graph it is not clear at all when the change took place"
   ]
  },
  {
   "cell_type": "markdown",
   "metadata": {},
   "source": [
    "### Building the model"
   ]
  },
  {
   "cell_type": "code",
   "execution_count": 15,
   "metadata": {},
   "outputs": [],
   "source": [
    "# Setting up constants\n",
    "mean_of_counts = count_data.observed_counts.mean()\n",
    "alpha = 1.0/mean_of_counts\n",
    "l = len(count_data)"
   ]
  },
  {
   "cell_type": "code",
   "execution_count": 16,
   "metadata": {},
   "outputs": [],
   "source": [
    "# - Defining the base stochastic parameters in the model - \n",
    "model = pm.Model()\n",
    "\n",
    "with model:\n",
    "\n",
    "    lambda_1 = pm.Exponential('lambda_1',alpha)\n",
    "    lambda_2 = pm.Exponential('lambda_2',alpha)\n",
    "\n",
    "    tau = pm.DiscreteUniform('tau',lower = 0, upper= l-1)"
   ]
  },
  {
   "cell_type": "code",
   "execution_count": 17,
   "metadata": {},
   "outputs": [],
   "source": [
    "# - Defining how lambda switches - \n",
    "with model:\n",
    "    idx = count_data.time\n",
    "    lambda_ = pm.math.switch(tau > idx, lambda_1, lambda_2) # This is a deterministic function"
   ]
  },
  {
   "cell_type": "code",
   "execution_count": 18,
   "metadata": {},
   "outputs": [],
   "source": [
    "# - Relating our data to the model -\n",
    "with model:\n",
    "    observation = pm.Poisson(\"obs\", lambda_, observed=count_data.observed_counts)"
   ]
  },
  {
   "cell_type": "code",
   "execution_count": 19,
   "metadata": {},
   "outputs": [
    {
     "name": "stderr",
     "output_type": "stream",
     "text": [
      "Multiprocess sampling (4 chains in 4 jobs)\n",
      "CompoundStep\n",
      ">Metropolis: [tau]\n",
      ">Metropolis: [lambda_2]\n",
      ">Metropolis: [lambda_1]\n",
      "Sampling 4 chains, 0 divergences: 100%|██████████| 60000/60000 [00:08<00:00, 6708.46draws/s]\n",
      "The number of effective samples is smaller than 25% for some parameters.\n"
     ]
    }
   ],
   "source": [
    "# - Running sampler -\n",
    "chains = 4\n",
    "samples = 10000\n",
    "\n",
    "with model:\n",
    "    step = pm.Metropolis()\n",
    "    trace = pm.sample(draws = samples, \n",
    "                      chains = chains, \n",
    "                      tune=5000,\n",
    "                      step=step)"
   ]
  },
  {
   "cell_type": "markdown",
   "metadata": {},
   "source": [
    "### What does the distribution of our parameters look like?"
   ]
  },
  {
   "cell_type": "code",
   "execution_count": 21,
   "metadata": {},
   "outputs": [],
   "source": [
    "# - Posterior values -\n",
    "lambda_1_samples =  trace['lambda_1']\n",
    "lambda_2_samples = trace['lambda_2']\n",
    "tau_samples = trace['tau']\n",
    "\n",
    "# - Posterior distribution -\n",
    "posterior_dist = pd.DataFrame({'lambda_1': lambda_1_samples, 'lambda_2': lambda_2_samples, 'tau' : tau_samples})\n",
    "posterior_dist = posterior_dist.unstack().reset_index()\n",
    "posterior_dist = posterior_dist.rename(columns = {'level_0':'Parameter',\n",
    "                                                  'level_1':'Sample',\n",
    "                                                  0:'simulated_parameter'})"
   ]
  },
  {
   "cell_type": "code",
   "execution_count": 22,
   "metadata": {},
   "outputs": [
    {
     "data": {
      "image/png": "[encoded data removed]",
      "text/plain": [
       "<Figure size 1500x300 with 3 Axes>"
      ]
     },
     "metadata": {},
     "output_type": "display_data"
    },
    {
     "data": {
      "text/plain": [
       "<ggplot: (-9223372036516029864)>"
      ]
     },
     "execution_count": 22,
     "metadata": {},
     "output_type": "execute_result"
    }
   ],
   "source": [
    "# Plot options\n",
    "pn.options.figure_size = (15,3)\n",
    "pn.options.dpi = 100\n",
    "\n",
    "# Plotting distribution\n",
    "ggplot(aes(x = 'simulated_parameter', fill = 'Parameter'), data = posterior_dist)\\\n",
    "+ geom_histogram(bins = 70)\\\n",
    "+ facet_wrap(['Parameter'],scales='free')\\\n",
    "+ theme_bw()\\\n",
    "+ theme(axis_text_x = element_text(color=\"grey\", size=10, angle=90, hjust=.5),\n",
    "        axis_text_y = element_text(color=\"grey\", size=10))"
   ]
  },
  {
   "cell_type": "markdown",
   "metadata": {},
   "source": [
    "### What are good estimates for the visitor rates and switch point day?"
   ]
  },
  {
   "cell_type": "code",
   "execution_count": 23,
   "metadata": {},
   "outputs": [
    {
     "name": "stdout",
     "output_type": "stream",
     "text": [
      "\n",
      "---------------------------------------------------------------------\n",
      "The MAP estimate for the switch point is at 27.0.\n",
      "The MAP estimate for the rate BEFORE the switch point is 10.2.\n",
      "The MAP estimate for the rate AFTER the switch point is 15.11.\n",
      "---------------------------------------------------------------------\n",
      "\n"
     ]
    }
   ],
   "source": [
    "# Rounding to nearest 100th\n",
    "posterior_dist['simulated_parameter'] = np.round(posterior_dist['simulated_parameter'],2)\n",
    "\n",
    "# Getting MAP estimates of simulated values\n",
    "MAP_estimates = posterior_dist.groupby('Parameter').simulated_parameter.agg(pd.Series.mode)\n",
    "\n",
    "# Getting the summarized values\n",
    "out = '''\n",
    "---------------------------------------------------------------------\n",
    "The MAP estimate for the switch point is at {switch_point_time}.\n",
    "The MAP estimate for the rate BEFORE the switch point is {lambda_1}.\n",
    "The MAP estimate for the rate AFTER the switch point is {lambda_2}.\n",
    "---------------------------------------------------------------------\n",
    "'''.format(switch_point_time = MAP_estimates.tau,\n",
    "          lambda_1 = MAP_estimates.lambda_1,\n",
    "          lambda_2 = MAP_estimates.lambda_2,)\n",
    "print(out)\n",
    "# pm.find_MAP(model=model)"
   ]
  },
  {
   "cell_type": "markdown",
   "metadata": {},
   "source": [
    "### How many expected visitors do we have per day?"
   ]
  },
  {
   "cell_type": "code",
   "execution_count": 24,
   "metadata": {},
   "outputs": [
    {
     "data": {
      "text/plain": [
       "(120000,)"
      ]
     },
     "execution_count": 24,
     "metadata": {},
     "output_type": "execute_result"
    }
   ],
   "source": [
    "posterior_dist['simulated_parameter'].shape"
   ]
  },
  {
   "cell_type": "code",
   "execution_count": 25,
   "metadata": {},
   "outputs": [],
   "source": [
    "# - Average rate: across time -\n",
    "daily_expected_visitors = np.zeros(l)\n",
    "n_samples = posterior_dist['simulated_parameter'].shape[0]\n",
    "\n",
    "for day in range(0,l):\n",
    "    ix = day < tau_samples\n",
    "    daily_expected_visitors[day] = (lambda_1_samples[ix].sum() + lambda_2_samples[~ix].sum())/n_samples\n"
   ]
  },
  {
   "cell_type": "code",
   "execution_count": 26,
   "metadata": {},
   "outputs": [],
   "source": [
    "df_daily_expected_visitors = pd.DataFrame({'daily_expected_visitors': daily_expected_visitors})\n",
    "posterior_count_data = pd.concat([count_data,df_daily_expected_visitors],axis =1)"
   ]
  },
  {
   "cell_type": "code",
   "execution_count": 27,
   "metadata": {},
   "outputs": [
    {
     "data": {
      "image/png": "[encoded data removed]",
      "text/plain": [
       "<Figure size 1500x300 with 1 Axes>"
      ]
     },
     "metadata": {},
     "output_type": "display_data"
    },
    {
     "data": {
      "text/plain": [
       "<ggplot: (308122523)>"
      ]
     },
     "execution_count": 27,
     "metadata": {},
     "output_type": "execute_result"
    }
   ],
   "source": [
    "# Plotting mean visitor rate\n",
    "ggplot(aes(x = 'time', y ='observed_counts'), data = posterior_count_data)\\\n",
    "+ geom_bar(stat='identity', fill = 'steelblue')\\\n",
    "+ geom_line(aes(x = 'time',y = 'daily_expected_visitors'), color='red', size = 2)\\\n",
    "+ theme_bw()\\\n",
    "+ theme(axis_text_x = element_text(color=\"grey\", size=10, angle=90, hjust=.5),\n",
    "        axis_text_y = element_text(color=\"grey\", size=10))\\\n",
    "+ geom_vline(xintercept = MAP_estimates.tau, color='black', linetype = 'dashed' )\\\n",
    "+ xlab('Day') + ylab('Count')"
   ]
  },
  {
   "cell_type": "markdown",
   "metadata": {},
   "source": [
    "### Are the two rates statistically different?\n",
    "- We can calculate this using the simulated values"
   ]
  },
  {
   "cell_type": "code",
   "execution_count": 28,
   "metadata": {},
   "outputs": [],
   "source": [
    "# - Difference in rates -\n",
    "lambda_1_values = trace.get_values('lambda_1', burn=1000, chains=[0, 1])\n",
    "lambda_2_values = trace.get_values('lambda_2', burn=1000, chains=[0, 1])\n",
    "probability_lambdas_are_different = (lambda_1_values < lambda_2_values).mean()\n",
    "#print('The probability the two rates are different is: {}'.format(probability_lambdas_are_different))"
   ]
  },
  {
   "cell_type": "markdown",
   "metadata": {},
   "source": [
    "### What's the probability that $\\lambda_1<\\lambda_2$ by more than $\\Delta$"
   ]
  },
  {
   "cell_type": "code",
   "execution_count": 29,
   "metadata": {},
   "outputs": [
    {
     "name": "stdout",
     "output_type": "stream",
     "text": [
      "Pr(lambda_1+Delta<lambda_2):\n",
      "2 is: 0.9987222222222222\n",
      "3 is: 0.9734444444444444\n",
      "4 is: 0.7818333333333334\n",
      "5 is: 0.35338888888888886\n",
      "7 is: 0.0034444444444444444\n"
     ]
    }
   ],
   "source": [
    "for delta in [1,2,3,4,5,7]:\n",
    "    prob_lambdas_differ_by_delta = (lambda_1_values + delta < lambda_2_values).mean()\n",
    "    if(delta == 1):\n",
    "        print('Pr(lambda_1+Delta<lambda_2):')\n",
    "    else:\n",
    "        print('{d} is: {p}'.format(d = delta,p = prob_lambdas_differ_by_delta))"
   ]
  }
 ],
 "metadata": {
  "kernelspec": {
   "display_name": "Python 3",
   "language": "python",
   "name": "python3"
  },
  "language_info": {
   "codemirror_mode": {
    "name": "ipython",
    "version": 3
   },
   "file_extension": ".py",
   "mimetype": "text/x-python",
   "name": "python",
   "nbconvert_exporter": "python",
   "pygments_lexer": "ipython3",
   "version": "3.7.3"
  }
 },
 "nbformat": 4,
 "nbformat_minor": 4
}
